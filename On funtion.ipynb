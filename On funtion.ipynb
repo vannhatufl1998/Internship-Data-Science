{
 "cells": [
  {
   "cell_type": "code",
   "execution_count": 1,
   "metadata": {},
   "outputs": [
    {
     "name": "stdout",
     "output_type": "stream",
     "text": [
      "Xin chao Nhat\n"
     ]
    }
   ],
   "source": [
    "def hello(ten):\n",
    "    print(\"Xin chao\", ten)\n",
    "hello(\"Nhat\")"
   ]
  },
  {
   "cell_type": "code",
   "execution_count": 8,
   "metadata": {},
   "outputs": [
    {
     "name": "stdout",
     "output_type": "stream",
     "text": [
      "1\n",
      "2\n",
      "3\n",
      "4\n",
      "5\n",
      "6\n",
      "7\n",
      "8\n",
      "9\n",
      "10\n"
     ]
    }
   ],
   "source": [
    "def show_number(n):\n",
    "    for i in range(1, n+1):\n",
    "        print(i)\n",
    "show_number(10)"
   ]
  },
  {
   "cell_type": "code",
   "execution_count": 10,
   "metadata": {},
   "outputs": [
    {
     "name": "stdout",
     "output_type": "stream",
     "text": [
      "5 9\n"
     ]
    }
   ],
   "source": [
    "def Phepcong(x, y=None):\n",
    "    if y==None:\n",
    "        return x\n",
    "    else:\n",
    "        return x+y\n",
    "kq1 = Phepcong(5)\n",
    "kq2 = Phepcong(5, 4)\n",
    "print(kq1, kq2)\n",
    "    "
   ]
  },
  {
   "cell_type": "code",
   "execution_count": 12,
   "metadata": {},
   "outputs": [
    {
     "name": "stdout",
     "output_type": "stream",
     "text": [
      "Nhap so nguyen n:5\n",
      "So nguyen n da nhap: 5\n"
     ]
    }
   ],
   "source": [
    "def Nhap():\n",
    "    n = int(input(\"Nhap so nguyen n:\"))\n",
    "    return n\n",
    "n = Nhap()\n",
    "print(\"So nguyen n da nhap:\", n)"
   ]
  },
  {
   "cell_type": "code",
   "execution_count": 13,
   "metadata": {},
   "outputs": [
    {
     "name": "stdout",
     "output_type": "stream",
     "text": [
      "x=5\n",
      "y=7\n",
      "Hai so nguyen da nhap: 5 7\n"
     ]
    }
   ],
   "source": [
    "def Nhap():\n",
    "    x = int(input('x='))\n",
    "    y = int(input('y='))\n",
    "    return x, y\n",
    "x, y = Nhap()\n",
    "print('Hai so nguyen da nhap:', x,y)"
   ]
  },
  {
   "cell_type": "code",
   "execution_count": 14,
   "metadata": {},
   "outputs": [
    {
     "name": "stdout",
     "output_type": "stream",
     "text": [
      "Tong va tich: 12 , 35\n"
     ]
    }
   ],
   "source": [
    "def TH(x, y):\n",
    "    return x+y, x*y\n",
    "\n",
    "t, s= TH(5, 7)\n",
    "print('Tong va tich:', t, ',', s)"
   ]
  },
  {
   "cell_type": "code",
   "execution_count": 16,
   "metadata": {},
   "outputs": [
    {
     "name": "stdout",
     "output_type": "stream",
     "text": [
      "None 5.0\n"
     ]
    }
   ],
   "source": [
    "def phepchia(x, y):\n",
    "    if y==0:\n",
    "        return None\n",
    "    else:\n",
    "        return x/y\n",
    "kq1 = phepchia(5, 0)\n",
    "kq2 = phepchia(10, 2)\n",
    "print(kq1, kq2)"
   ]
  },
  {
   "cell_type": "code",
   "execution_count": 23,
   "metadata": {},
   "outputs": [
    {
     "name": "stdout",
     "output_type": "stream",
     "text": [
      "Nhap so nguyen n:6\n",
      "Nhap 6 so nguyen\n",
      "1\n",
      "2\n",
      "3\n",
      "4\n",
      "5\n",
      "6\n",
      "So chu so chan: 3\n"
     ]
    }
   ],
   "source": [
    "def Nhap():\n",
    "    n = int(input('Nhap so nguyen n:'))\n",
    "    return n\n",
    "\n",
    "def NhapvaDem(n):\n",
    "    print('Nhap', n, 'so nguyen')\n",
    "    dem=0\n",
    "    for i in range(1,n+1):\n",
    "        x=int(input())\n",
    "        if x%2 ==0:\n",
    "            dem+=1\n",
    "    return dem\n",
    "def inkq(kq):\n",
    "    print('So chu so chan:', kq)\n",
    "    \n",
    "n= Nhap()\n",
    "kq = NhapvaDem(n)\n",
    "inkq(kq)\n"
   ]
  },
  {
   "cell_type": "code",
   "execution_count": 28,
   "metadata": {},
   "outputs": [
    {
     "name": "stdout",
     "output_type": "stream",
     "text": [
      "x=7\n",
      "y= 5\n",
      "kq= 12\n",
      "z= 7\n"
     ]
    }
   ],
   "source": [
    "def Nhap():\n",
    "    global z\n",
    "    z=7\n",
    "    x=int(input('x='))\n",
    "    y=5\n",
    "    return x+y\n",
    "kq = Nhap()\n",
    "print('y=', y)\n",
    "print('kq=', kq)\n",
    "print('z=',z)   "
   ]
  },
  {
   "cell_type": "code",
   "execution_count": 30,
   "metadata": {},
   "outputs": [
    {
     "name": "stdout",
     "output_type": "stream",
     "text": [
      "not invaild\n",
      "Excelent 42.0\n"
     ]
    }
   ],
   "source": [
    "def spam(divideby):\n",
    "    try:\n",
    "        result = 42/divideby\n",
    "    except:\n",
    "        print('not invaild')\n",
    "    else:\n",
    "        print('Excelent', result)\n",
    "spam(0)\n",
    "spam(1)\n",
    "            "
   ]
  },
  {
   "cell_type": "code",
   "execution_count": 6,
   "metadata": {},
   "outputs": [
    {
     "name": "stdout",
     "output_type": "stream",
     "text": [
      "Nhap so nguyen n = 8\n",
      "6\n",
      "7\n",
      "8\n",
      "9\n",
      "5\n",
      "7\n",
      "5\n",
      "6\n",
      "Co 5 so nguyen duong chan\n"
     ]
    }
   ],
   "source": [
    "def Nhap():\n",
    "    n = int(input('Nhap so nguyen n = '))\n",
    "    return n\n",
    "\n",
    "def LaSoDuong(x):\n",
    "    if x>0 and x%2:\n",
    "        return 1\n",
    "    else:\n",
    "        return 0\n",
    "\n",
    "def Xuly(n):\n",
    "    dem = 0\n",
    "    for i in range(1, n+1):\n",
    "        x = int(input())\n",
    "        if LaSoDuong(x) == 1:\n",
    "            dem +=1\n",
    "    return dem\n",
    "\n",
    "def Inkq(soluong):\n",
    "    print('Co', soluong, 'so nguyen duong chan')\n",
    " \n",
    "n=Nhap()\n",
    "soluong = Xuly(n)\n",
    "Inkq(soluong)\n",
    "\n"
   ]
  },
  {
   "cell_type": "markdown",
   "metadata": {},
   "source": [
    "def Nhap():\n",
    "    n = int(input('Nhap so nguyen n = '))\n",
    "    return n\n",
    "\n",
    "def LaSoDuong(x):\n",
    "    if x>0 and x%2:\n",
    "        return 1\n",
    "    else:\n",
    "        return 0\n",
    "\n",
    "def Xuly(n):\n",
    "    dem = 0\n",
    "    for i in range(1, n+1):\n",
    "        x = int(input())\n",
    "        if LaSoDuong(x) == 1:\n",
    "            dem +=1\n",
    "    return dem\n",
    "\n",
    "def Inkq(soluong):\n",
    "    print('Co', soluong, 'so nguyen duong chan')\n",
    " \n",
    "n=Nhap()\n",
    "soluong = Xuly(n)\n",
    "Inkq(soluong)\n"
   ]
  },
  {
   "cell_type": "code",
   "execution_count": 7,
   "metadata": {},
   "outputs": [
    {
     "name": "stdout",
     "output_type": "stream",
     "text": [
      "Nhap so nguyen n = 4\n",
      "-3\n",
      "-2\n",
      "6\n",
      "7\n",
      "Co 1 so nguyen duong chan\n"
     ]
    }
   ],
   "source": [
    "def Nhap():\n",
    "    n = int(input('Nhap so nguyen n = '))\n",
    "    return n\n",
    "\n",
    "def LaSoDuong(x):\n",
    "    if x>0 and x%2:\n",
    "        return 1\n",
    "    else:\n",
    "        return 0\n",
    "\n",
    "def Xuly(n):\n",
    "    dem = 0\n",
    "    for i in range(1, n+1):\n",
    "        x = int(input())\n",
    "        if LaSoDuong(x) == 1:\n",
    "            dem +=1\n",
    "    return dem\n",
    "\n",
    "def Inkq(soluong):\n",
    "    print('Co', soluong, 'so nguyen duong chan')\n",
    " \n",
    "n=Nhap()\n",
    "soluong = Xuly(n)\n",
    "Inkq(soluong)\n"
   ]
  },
  {
   "cell_type": "code",
   "execution_count": 8,
   "metadata": {},
   "outputs": [
    {
     "name": "stdout",
     "output_type": "stream",
     "text": [
      "n=4\n",
      "3\n",
      "4\n",
      "5\n",
      "6\n",
      "so 2 xxxxxx\n"
     ]
    }
   ],
   "source": [
    "def Nhap():\n",
    "    n = int(input('n='))\n",
    "    return n\n",
    "\n",
    "\n",
    "def LaSoDuong(x):\n",
    "    if x>0 and x%2:\n",
    "        return 1\n",
    "    else:\n",
    "        return 0\n",
    "\n",
    "def Xuly(n):\n",
    "    dem = 0\n",
    "    for i in range(1, n+1):\n",
    "        x= int(input())\n",
    "        if LaSoDuong(x) == 1:\n",
    "            dem +=1\n",
    "    return dem\n",
    "\n",
    "def Inkq(soluong):\n",
    "    print('so', soluong, 'xxxxxx')\n",
    "\n",
    "n= Nhap()\n",
    "soluong = Xuly(n)\n",
    "Inkq(soluong)\n",
    "    "
   ]
  },
  {
   "cell_type": "code",
   "execution_count": 11,
   "metadata": {},
   "outputs": [
    {
     "name": "stdout",
     "output_type": "stream",
     "text": [
      "1\n",
      "2\n",
      "3\n",
      "An\n",
      "Binh\n",
      "Nam\n"
     ]
    }
   ],
   "source": [
    "L1 = []\n",
    "L2 = [1, 2, 3, 'An', 'Binh', 'Nam']\n",
    "for x in L2:\n",
    "    print(x)"
   ]
  },
  {
   "cell_type": "code",
   "execution_count": 13,
   "metadata": {},
   "outputs": [
    {
     "name": "stdout",
     "output_type": "stream",
     "text": [
      "0\n",
      "1\n",
      "2\n",
      "3\n",
      "4\n",
      "5\n"
     ]
    }
   ],
   "source": [
    "    for i in range(0, len(L2)):\n",
    "        print(i)\n"
   ]
  },
  {
   "cell_type": "code",
   "execution_count": 17,
   "metadata": {},
   "outputs": [
    {
     "ename": "TypeError",
     "evalue": "'type' object is not subscriptable",
     "output_type": "error",
     "traceback": [
      "\u001b[1;31m---------------------------------------------------------------------------\u001b[0m",
      "\u001b[1;31mTypeError\u001b[0m                                 Traceback (most recent call last)",
      "\u001b[1;32m<ipython-input-17-182267e26784>\u001b[0m in \u001b[0;36m<module>\u001b[1;34m\u001b[0m\n\u001b[1;32m----> 1\u001b[1;33m \u001b[0ml\u001b[0m \u001b[1;33m=\u001b[0m\u001b[0mrange\u001b[0m\u001b[1;33m[\u001b[0m\u001b[1;36m1\u001b[0m\u001b[1;33m,\u001b[0m\u001b[1;36m6\u001b[0m\u001b[1;33m]\u001b[0m\u001b[1;33m\u001b[0m\u001b[1;33m\u001b[0m\u001b[0m\n\u001b[0m\u001b[0;32m      2\u001b[0m \u001b[0mprint\u001b[0m\u001b[1;33m(\u001b[0m\u001b[0ml\u001b[0m\u001b[1;33m)\u001b[0m\u001b[1;33m\u001b[0m\u001b[1;33m\u001b[0m\u001b[0m\n",
      "\u001b[1;31mTypeError\u001b[0m: 'type' object is not subscriptable"
     ]
    }
   ],
   "source": [
    "L = [1, 2, 3, 4, 5]\n",
    "x = int(input('x='))\n",
    "i= "
   ]
  },
  {
   "cell_type": "code",
   "execution_count": 26,
   "metadata": {},
   "outputs": [
    {
     "name": "stdout",
     "output_type": "stream",
     "text": [
      "2\n",
      "4\n",
      "6\n",
      "8\n",
      "10\n"
     ]
    }
   ],
   "source": [
    "i=1\n",
    "while i<=11:\n",
    "    if i%2 ==0:\n",
    "        print(i)\n",
    "    i +=1"
   ]
  },
  {
   "cell_type": "code",
   "execution_count": 1,
   "metadata": {},
   "outputs": [
    {
     "name": "stdout",
     "output_type": "stream",
     "text": [
      "nhap so nguyen n : 5\n",
      "4\n",
      "6\n",
      "4\n",
      "3\n",
      "5\n",
      "[4, 6, 4, 3, 5]\n",
      "nhap so nguyen x3\n",
      "False\n",
      "[4, 5]\n"
     ]
    }
   ],
   "source": [
    "lst = []\n",
    "\n",
    "\n",
    "n = int(input(\"nhap so nguyen n : \"))\n",
    "\n",
    "\n",
    "for i in range(0, n):\n",
    "     ele = int(input())\n",
    "\n",
    "     lst.append(ele)\n",
    "\n",
    "print(lst)\n",
    "x= int(input(\"nhap so nguyen x\"))\n",
    "def search(lst,x):\n",
    "     for i in range(len(lst)):\n",
    "          if x==lst[i]:\n",
    "               return True\n",
    "          return False\n",
    "print(search(lst,x))\n",
    "\n",
    "x= [lst[0],lst[-1]]\n",
    "print(x)"
   ]
  },
  {
   "cell_type": "code",
   "execution_count": null,
   "metadata": {},
   "outputs": [],
   "source": []
  }
 ],
 "metadata": {
  "kernelspec": {
   "display_name": "Python 3",
   "language": "python",
   "name": "python3"
  },
  "language_info": {
   "codemirror_mode": {
    "name": "ipython",
    "version": 3
   },
   "file_extension": ".py",
   "mimetype": "text/x-python",
   "name": "python",
   "nbconvert_exporter": "python",
   "pygments_lexer": "ipython3",
   "version": "3.8.5"
  }
 },
 "nbformat": 4,
 "nbformat_minor": 4
}
