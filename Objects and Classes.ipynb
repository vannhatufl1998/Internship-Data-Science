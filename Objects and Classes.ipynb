{
 "cells": [
  {
   "cell_type": "code",
   "execution_count": 4,
   "metadata": {},
   "outputs": [
    {
     "name": "stdout",
     "output_type": "stream",
     "text": [
      "<__main__.User object at 0x00000254E05DB8E0>\n"
     ]
    }
   ],
   "source": [
    "class User:\n",
    "    pass\n",
    "# Khoi tao mot object User va kiem tra type cua no.\n",
    "user = User()\n",
    "print(user)"
   ]
  },
  {
   "cell_type": "code",
   "execution_count": 3,
   "metadata": {},
   "outputs": [],
   "source": [
    "# Constructor trong python\n",
    "class User:\n",
    "  def __init__(self, name, age, gender, occupation):\n",
    "    self.name = name\n",
    "    self.age = age\n",
    "    self.gender = gender\n",
    "    self.occupation = occupation"
   ]
  },
  {
   "cell_type": "code",
   "execution_count": 18,
   "metadata": {},
   "outputs": [
    {
     "name": "stdout",
     "output_type": "stream",
     "text": [
      "Xin chao ta chinh laSieu nhan Nhat\n"
     ]
    }
   ],
   "source": [
    "class SieuNhan:\n",
    "    def __init__(self, para_ten, para_vu_khi, para_mau_sac):\n",
    "        self.ten = \"Sieu nhan\" + \" \" + para_ten\n",
    "        self.vu_khi = para_vu_khi\n",
    "        self.mau_sac = para_mau_sac\n",
    "    def Xin_chao(self):\n",
    "        return \"Xin chao ta chinh la\" + self.ten\n",
    "        \n",
    "    \n",
    "Sieu_Nhan_A = SieuNhan(\"Nhat\", \"Kiem\", \"Do\")\n",
    "print(Sieu_Nhan_A.Xin_chao())\n",
    "\n",
    "# print(\"Ten cua sieu nhan:\", Sieu_Nhan_A.ten)\n",
    "# print(\"Sieu nhan mau:\", Sieu_Nhan_A.mau_sac)\n",
    "# print(\"Su dung vu khi:\", Sieu_Nhan_A.vu_khi)"
   ]
  },
  {
   "cell_type": "code",
   "execution_count": 1,
   "metadata": {},
   "outputs": [
    {
     "name": "stdout",
     "output_type": "stream",
     "text": [
      "50\n",
      "50\n"
     ]
    }
   ],
   "source": [
    "class SieuNhan:\n",
    "    suc_manh = 50\n",
    "    \n",
    "    def __init__(self, para_ten, para_vu_khi, para_mau_sac):\n",
    "        self.ten = \"Sieu nhan\" + \" \" + para_ten\n",
    "        self.vu_khi = para_vu_khi\n",
    "        self.mau_sac = para_mau_sac\n",
    "        \n",
    "    \n",
    "Sieu_Nhan_A = SieuNhan(\"Nhat\", \"Kiem\", \"Do\")\n",
    "\n",
    "print(SieuNhan.suc_manh)\n",
    "print(Sieu_Nhan_A.suc_manh)\n"
   ]
  },
  {
   "cell_type": "code",
   "execution_count": 2,
   "metadata": {},
   "outputs": [
    {
     "name": "stdout",
     "output_type": "stream",
     "text": [
      "1\n",
      "2\n",
      "3\n"
     ]
    }
   ],
   "source": [
    "class SieuNhan:\n",
    "    stt = 1;\n",
    "    so_thu_tu = 1\n",
    "    suc_manh = 50\n",
    "    \n",
    "    def __init__(self, para_ten, para_vu_khi, para_mau_sac):\n",
    "        self.ten = \"Sieu nhan\" + \" \" + para_ten\n",
    "        self.vu_khi = para_vu_khi\n",
    "        self.mau_sac = para_mau_sac\n",
    "        \n",
    "        self.stt = SieuNhan.so_thu_tu\n",
    "        SieuNhan.so_thu_tu += 1\n",
    "        \n",
    "    \n",
    "Sieu_Nhan_A = SieuNhan(\"Nhat\", \"Kiem\", \"Do\")\n",
    "Sieu_Nhan_B = SieuNhan(\"Vang\", \"Sung\", \"mau do\")\n",
    "Sieu_Nhan_C = SieuNhan(\"Xanh\", \"Bua\", \"mau vang\")\n",
    "print(Sieu_Nhan_A.stt)\n",
    "print(Sieu_Nhan_B.stt)\n",
    "print(Sieu_Nhan_C.stt)"
   ]
  },
  {
   "cell_type": "code",
   "execution_count": 5,
   "metadata": {},
   "outputs": [
    {
     "name": "stdout",
     "output_type": "stream",
     "text": [
      "50\n",
      "40\n"
     ]
    }
   ],
   "source": [
    "class SieuNhan:\n",
    "    \n",
    "    suc_manh = 50\n",
    "    \n",
    "    def __init__(self, para_ten, para_vu_khi, para_mau_sac):\n",
    "        self.ten = \"Sieu nhan\" + \" \" + para_ten\n",
    "        self.vu_khi = para_vu_khi\n",
    "        self.mau_sac = para_mau_sac\n",
    "        \n",
    "\n",
    "    \n",
    "Sieu_Nhan_A = SieuNhan(\"Nhat\", \"Kiem\", \"Do\")\n",
    "# Sieu_Nhan_B = SieuNhan(\"Vang\", \"Sung\", \"mau do\")\n",
    "# Sieu_Nhan_C = SieuNhan(\"Xanh\", \"Bua\", \"mau vang\")\n",
    "Sieu_Nhan_A.suc_manh = 40\n",
    "\n",
    "print(SieuNhan.suc_manh)\n",
    "print(Sieu_Nhan_A.suc_manh)\n"
   ]
  },
  {
   "cell_type": "code",
   "execution_count": 7,
   "metadata": {},
   "outputs": [
    {
     "name": "stdout",
     "output_type": "stream",
     "text": [
      "Pham Dinh Khanh 27 male AI Engineer\n"
     ]
    }
   ],
   "source": [
    "class User:\n",
    "  def __init__(self, name, age, gender, occupation):\n",
    "    self.name = name\n",
    "    self.age = age\n",
    "    self.gender = gender\n",
    "    self.occupation = occupation\n",
    "user = User(name='Pham Dinh Khanh', age=27, gender='male', occupation='AI Engineer')\n",
    "print(user.name, user.age, user.gender, user.occupation)"
   ]
  },
  {
   "cell_type": "code",
   "execution_count": 17,
   "metadata": {},
   "outputs": [
    {
     "name": "stdout",
     "output_type": "stream",
     "text": [
      "VietNam Pham Dinh Khanh 27 male AI Engineer\n",
      "you bought a Book\n",
      "you search: AI Book\n"
     ]
    }
   ],
   "source": [
    "class User:\n",
    "  nation = 'VietNam'\n",
    "  def __init__(self, name, age, gender, occupation):\n",
    "    self.name = name\n",
    "    self.age = age\n",
    "    self.gender = gender\n",
    "    self.occupation = occupation\n",
    "    \n",
    " # Các hàm buy, search là những hàm phương thức.\n",
    "  def buy(self, item):\n",
    "    print('you bought {}'.format(item))\n",
    "  \n",
    "  def search(self, term):\n",
    "    print('you search: {}'.format(term))\n",
    "\n",
    "user123 = User(name='Pham Dinh Khanh', age=27, gender='male', occupation='AI Engineer')\n",
    "print(user.nation, user.name, user.age, user.gender, user.occupation)\n",
    "user1.buy('a Book')\n",
    "user.search('AI Book')"
   ]
  },
  {
   "cell_type": "code",
   "execution_count": 18,
   "metadata": {},
   "outputs": [
    {
     "name": "stdout",
     "output_type": "stream",
     "text": [
      "VietNam Pham Dinh Khanh 27 male AI Engineer\n",
      "you bought a Book\n",
      "you search: AI Book\n"
     ]
    }
   ],
   "source": [
    "class User:\n",
    "  nation = 'VietNam'\n",
    "  def __init__(self, name, age, gender, occupation):\n",
    "    self.name = name\n",
    "    self.age = age\n",
    "    self.gender = gender\n",
    "    self.occupation = occupation\n",
    "    \n",
    " # Các hàm buy, search là những hàm phương thức.\n",
    "  def buy(self, item):\n",
    "    print('you bought {}'.format(item))\n",
    "  \n",
    "  def search(self, term):\n",
    "    print('you search: {}'.format(term))\n",
    "\n",
    "user123 = User(name='Pham Dinh Khanh', age=27, gender='male', occupation='AI Engineer')\n",
    "print(user.nation, user.name, user.age, user.gender, user.occupation)\n",
    "user1.buy('a Book')\n",
    "user.search('AI Book')"
   ]
  },
  {
   "cell_type": "code",
   "execution_count": null,
   "metadata": {},
   "outputs": [],
   "source": []
  }
 ],
 "metadata": {
  "kernelspec": {
   "display_name": "Python 3",
   "language": "python",
   "name": "python3"
  },
  "language_info": {
   "codemirror_mode": {
    "name": "ipython",
    "version": 3
   },
   "file_extension": ".py",
   "mimetype": "text/x-python",
   "name": "python",
   "nbconvert_exporter": "python",
   "pygments_lexer": "ipython3",
   "version": "3.8.5"
  }
 },
 "nbformat": 4,
 "nbformat_minor": 4
}
