{
 "cells": [
  {
   "cell_type": "code",
   "execution_count": 1,
   "metadata": {},
   "outputs": [],
   "source": [
    "matrix = [[1, 2, 3], [4, 5, 6], [7, 8, 9]]"
   ]
  },
  {
   "cell_type": "code",
   "execution_count": 2,
   "metadata": {},
   "outputs": [
    {
     "data": {
      "text/plain": [
       "[1, 2, 3]"
      ]
     },
     "execution_count": 2,
     "metadata": {},
     "output_type": "execute_result"
    }
   ],
   "source": [
    "matrix[0]"
   ]
  },
  {
   "cell_type": "code",
   "execution_count": 3,
   "metadata": {},
   "outputs": [
    {
     "data": {
      "text/plain": [
       "[4, 5, 6]"
      ]
     },
     "execution_count": 3,
     "metadata": {},
     "output_type": "execute_result"
    }
   ],
   "source": [
    "matrix[1]"
   ]
  },
  {
   "cell_type": "code",
   "execution_count": 4,
   "metadata": {},
   "outputs": [
    {
     "data": {
      "text/plain": [
       "1"
      ]
     },
     "execution_count": 4,
     "metadata": {},
     "output_type": "execute_result"
    }
   ],
   "source": [
    "matrix[0] [0]"
   ]
  },
  {
   "cell_type": "code",
   "execution_count": 5,
   "metadata": {},
   "outputs": [
    {
     "data": {
      "text/plain": [
       "2"
      ]
     },
     "execution_count": 5,
     "metadata": {},
     "output_type": "execute_result"
    }
   ],
   "source": [
    "matrix[0][1]"
   ]
  },
  {
   "cell_type": "code",
   "execution_count": 6,
   "metadata": {},
   "outputs": [
    {
     "data": {
      "text/plain": [
       "9"
      ]
     },
     "execution_count": 6,
     "metadata": {},
     "output_type": "execute_result"
    }
   ],
   "source": [
    "matrix[2][2]"
   ]
  },
  {
   "cell_type": "code",
   "execution_count": 11,
   "metadata": {},
   "outputs": [
    {
     "data": {
      "text/plain": [
       "4"
      ]
     },
     "execution_count": 11,
     "metadata": {},
     "output_type": "execute_result"
    }
   ],
   "source": [
    "matrix[1][0]"
   ]
  },
  {
   "cell_type": "code",
   "execution_count": 18,
   "metadata": {},
   "outputs": [],
   "source": [
    "number = [1, 2, 3, 4, 5, 6, 7, 8, 9]"
   ]
  },
  {
   "cell_type": "code",
   "execution_count": 20,
   "metadata": {},
   "outputs": [
    {
     "data": {
      "text/plain": [
       "[5, 6, 7]"
      ]
     },
     "execution_count": 20,
     "metadata": {},
     "output_type": "execute_result"
    }
   ],
   "source": [
    "number[4:7]"
   ]
  },
  {
   "cell_type": "code",
   "execution_count": 21,
   "metadata": {},
   "outputs": [
    {
     "data": {
      "text/plain": [
       "[1, 0, 0, 4, 5, 6, 7, 8, 9]"
      ]
     },
     "execution_count": 21,
     "metadata": {},
     "output_type": "execute_result"
    }
   ],
   "source": [
    "number[1] = 0\n",
    "number[2] = number[1]\n",
    "number"
   ]
  },
  {
   "cell_type": "code",
   "execution_count": 22,
   "metadata": {},
   "outputs": [
    {
     "data": {
      "text/plain": [
       "9"
      ]
     },
     "execution_count": 22,
     "metadata": {},
     "output_type": "execute_result"
    }
   ],
   "source": [
    "len(number)"
   ]
  },
  {
   "cell_type": "code",
   "execution_count": 23,
   "metadata": {},
   "outputs": [
    {
     "name": "stdout",
     "output_type": "stream",
     "text": [
      "[1, 2]\n",
      "[1, 2, 3, 4]\n"
     ]
    }
   ],
   "source": [
    "matrix1 = [1, 2]\n",
    "print(matrix1)\n",
    "matrix1 = matrix1 + [3, 4]\n",
    "print(matrix1)"
   ]
  },
  {
   "cell_type": "code",
   "execution_count": 1,
   "metadata": {},
   "outputs": [
    {
     "name": "stdout",
     "output_type": "stream",
     "text": [
      "[1, 2, 3, 4, 5, 6]\n",
      "[7, 1, 2, 3, 4, 5, 6]\n",
      "[7, 1, 2, 3, 4, 5, 8, 6]\n"
     ]
    }
   ],
   "source": [
    "names = [1, 2, 3, 4, 5]\n",
    "names.append(6)\n",
    "print(names)\n",
    "names.insert(0,7)\n",
    "print(names)\n",
    "names.insert(-1,8)\n",
    "print(names)"
   ]
  },
  {
   "cell_type": "code",
   "execution_count": 2,
   "metadata": {},
   "outputs": [
    {
     "ename": "SyntaxError",
     "evalue": "invalid character in identifier (<ipython-input-2-48387cbbe4a8>, line 1)",
     "output_type": "error",
     "traceback": [
      "\u001b[1;36m  File \u001b[1;32m\"<ipython-input-2-48387cbbe4a8>\"\u001b[1;36m, line \u001b[1;32m1\u001b[0m\n\u001b[1;33m    names = [“An”, ”Nam”, “Binh”, “Ngoc”]names.remove(“An”)\u001b[0m\n\u001b[1;37m                ^\u001b[0m\n\u001b[1;31mSyntaxError\u001b[0m\u001b[1;31m:\u001b[0m invalid character in identifier\n"
     ]
    }
   ],
   "source": [
    "names = [“An”, ”Nam”, “Binh”, “Ngoc”]names.remove(“An”)\n",
    "del(names[0])\n",
    "x=names.pop(-2)print\n",
    "(x)print(names)\n"
   ]
  },
  {
   "cell_type": "code",
   "execution_count": 3,
   "metadata": {},
   "outputs": [
    {
     "name": "stdout",
     "output_type": "stream",
     "text": [
      "0 2 5 "
     ]
    }
   ],
   "source": [
    "def search(L, x):\n",
    "    A = []\n",
    "    for i in range(len(L)):\n",
    "        if L[i] == x:\n",
    "            A.append(i)\n",
    "    if len(A) == 0:\n",
    "        return None\n",
    "    else:\n",
    "        return A\n",
    "L = [2, 4, 2, 6, 8, 2]\n",
    "a = search(L, 2)\n",
    "if a != None:\n",
    "    for x in a:\n",
    "        print(x, end=\" \")\n",
    "else:\n",
    "    print(a)"
   ]
  },
  {
   "cell_type": "code",
   "execution_count": 5,
   "metadata": {},
   "outputs": [
    {
     "name": "stdout",
     "output_type": "stream",
     "text": [
      "None\n"
     ]
    }
   ],
   "source": [
    "def add(L, x, k):\n",
    "    if k > len(L) - 1:\n",
    "        L.append(x)\n",
    "    else:\n",
    "        i = 0\n",
    "        M = L.copy()\n",
    "        L.clear()\n",
    "        for item in M:\n",
    "            if i == k:\n",
    "                L.append(x)\n",
    "                L.append(item)\n",
    "            else:\n",
    "                L.append(item)\n",
    "            i = i + 1\n",
    "L = [1, 2, 3, 4, 5]\n",
    "x = 10\n",
    "k = 9\n",
    "L= add(L, x, k)\n",
    "\n",
    "print(L)"
   ]
  },
  {
   "cell_type": "code",
   "execution_count": 7,
   "metadata": {},
   "outputs": [
    {
     "name": "stdout",
     "output_type": "stream",
     "text": [
      "None\n"
     ]
    }
   ],
   "source": [
    "def search(L, x):\n",
    "    A = []\n",
    "    for i in range(len(L)):\n",
    "        if L[i] == x:\n",
    "            A.append(i)\n",
    "    if len(A) == 0:\n",
    "        return None\n",
    "    else:\n",
    "        return A\n",
    "L = [2, 4, 2, 6, 8, 2]\n",
    "a = search(L, 9)\n",
    "if a != None:\n",
    "    for x in a:\n",
    "        print(x, end=\" \")\n",
    "else:\n",
    "    print(a)"
   ]
  },
  {
   "cell_type": "code",
   "execution_count": 1,
   "metadata": {},
   "outputs": [
    {
     "name": "stdout",
     "output_type": "stream",
     "text": [
      "[((0, 0, 47, 27), 'Không'), ((0, 12, 25, 46), 'trừ'), ((0, 31, 37, 68), 'phép'), ((21, 12, 48, 46), 'khi'), ((43, 0, 63, 26), 'ai'), ((43, 13, 88, 48), 'người'), ((58, 0, 81, 26), 'có'), ((77, 0, 105, 26), 'thể'), ((83, 10, 104, 46), 'tổ'), ((101, 11, 140, 46), 'chức'), ((102, 0, 143, 26), 'tham'), ((137, 12, 168, 46), 'mời'), ((138, 0, 165, 28), 'gia'), ((162, 0, 200, 27), 'cuộc'), ((163, 11, 204, 47), 'hoặc'), ((195, 0, 228, 28), 'họp'), ((199, 12, 231, 46), 'cho')]\n"
     ]
    }
   ],
   "source": [
    "a =[((0, 0, 47, 27), 'Không'),\n",
    " ((0, 12, 25, 46), 'trừ'),\n",
    " ((0, 31, 37, 68), 'phép'),\n",
    " ((21, 12, 48, 46), 'khi'),\n",
    " ((43, 0, 63, 26), 'ai'),\n",
    " ((43, 13, 88, 48), 'người'), \n",
    " ((58, 0, 81, 26), 'có'),\n",
    " ((77, 0, 105, 26), 'thể'),\n",
    " ((83, 10, 104, 46), 'tổ'),\n",
    " ((101, 11, 140, 46), 'chức'),\n",
    " ((102, 0, 143, 26), 'tham'),\n",
    " ((137, 12, 168, 46), 'mời'),\n",
    " ((138, 0, 165, 28), 'gia'),\n",
    " ((162, 0, 200, 27), 'cuộc'),\n",
    " ((163, 11, 204, 47), 'hoặc'),\n",
    " ((195, 0, 228, 28), 'họp'),\n",
    " ((199, 12, 231, 46), 'cho')]\n",
    "\n",
    "print(a)"
   ]
  },
  {
   "cell_type": "code",
   "execution_count": 6,
   "metadata": {},
   "outputs": [
    {
     "name": "stdout",
     "output_type": "stream",
     "text": [
      "x=3\n",
      "Sau khi xoa:\n",
      "[(1, 2, 3, 4, 5), 'Hello']\n"
     ]
    }
   ],
   "source": [
    "L = [(1, 2, 3, 4, 5), 'Hello']\n",
    "x = int(input('x='))\n",
    "i = 0\n",
    "while i<len(L):\n",
    "    if L[i]==x:\n",
    "        del(L[i])\n",
    "    i +=1\n",
    "print('Sau khi xoa:')\n",
    "print(L)"
   ]
  },
  {
   "cell_type": "code",
   "execution_count": 8,
   "metadata": {},
   "outputs": [
    {
     "name": "stdout",
     "output_type": "stream",
     "text": [
      "k= 5\n",
      "k= 4\n",
      "k= 3\n",
      "k= 2\n",
      "k= 1\n",
      "k= 0\n",
      "k= -1\n",
      "k= -2\n",
      "k= -3\n",
      "k= -4\n",
      "k= -5\n"
     ]
    }
   ],
   "source": [
    "k = 5\n",
    "while k>-6:\n",
    "    print('k=', k)\n",
    "    k -= 1"
   ]
  },
  {
   "cell_type": "code",
   "execution_count": 11,
   "metadata": {},
   "outputs": [
    {
     "name": "stdout",
     "output_type": "stream",
     "text": [
      "0 Stant for H\n",
      "1 Stant for o\n",
      "2 Stant for w\n",
      "3 Stant for  \n",
      "4 Stant for K\n",
      "5 Stant for t\n",
      "6 Stant for e\n",
      "7 Stant for a\n",
      "8 Stant for m\n"
     ]
    }
   ],
   "source": [
    "s = 'How Kteam'\n",
    "idx = 0\n",
    "length = len(s)\n",
    "\n",
    "while idx < length:\n",
    "    print(idx, 'Stant for', s[idx])\n",
    "    idx += 1"
   ]
  },
  {
   "cell_type": "code",
   "execution_count": 22,
   "metadata": {},
   "outputs": [
    {
     "name": "stdout",
     "output_type": "stream",
     "text": [
      "10\n",
      "[2, 4, 6, 8, 10]\n"
     ]
    }
   ],
   "source": [
    "five_even_numbers = []\n",
    "k_number = 1\n",
    "\n",
    "while True:\n",
    "    if k_number%2 == 0:\n",
    "        five_even_numbers.append(k_number)\n",
    "        if len(five_even_numbers) >=5:\n",
    "            break\n",
    "    k_number += 1\n",
    "print(k_number)\n",
    "print(five_even_numbers)"
   ]
  },
  {
   "cell_type": "code",
   "execution_count": 28,
   "metadata": {},
   "outputs": [
    {
     "name": "stdout",
     "output_type": "stream",
     "text": [
      "1 is odd number\n",
      "2 is odd number\n",
      "3 is odd number\n",
      "4 is odd number\n",
      "5 is odd number\n",
      "7 is odd number\n",
      "9 is odd number\n",
      "What's up man 10\n"
     ]
    }
   ],
   "source": [
    "k_number = 0\n",
    "while k_number < 10:\n",
    "    k_number += 1\n",
    "    if k_number%2 == 0 and k_number >=5:\n",
    "        continue\n",
    "    print(k_number, 'is odd number')\n",
    "print(\"What's up man\", k_number)"
   ]
  },
  {
   "cell_type": "code",
   "execution_count": 36,
   "metadata": {},
   "outputs": [
    {
     "name": "stdout",
     "output_type": "stream",
     "text": [
      "Nhap k nao:1\n",
      "k= 1\n",
      "Dung nha\n"
     ]
    }
   ],
   "source": [
    "k =int(input('Nhap k nao:'))\n",
    "while k <3:\n",
    "    print('k=', k)\n",
    "    k +=1\n",
    "    if k == 2:\n",
    "        print('Dung nha')\n",
    "        break\n",
    "else:\n",
    "    print('cc')"
   ]
  },
  {
   "cell_type": "code",
   "execution_count": 41,
   "metadata": {},
   "outputs": [
    {
     "name": "stdout",
     "output_type": "stream",
     "text": [
      "<class 'generator'>\n",
      "0\n",
      "1\n",
      "2\n"
     ]
    },
    {
     "ename": "StopIteration",
     "evalue": "",
     "output_type": "error",
     "traceback": [
      "\u001b[1;31m---------------------------------------------------------------------------\u001b[0m",
      "\u001b[1;31mStopIteration\u001b[0m                             Traceback (most recent call last)",
      "\u001b[1;32m<ipython-input-41-decf9c747bee>\u001b[0m in \u001b[0;36m<module>\u001b[1;34m\u001b[0m\n\u001b[0;32m      4\u001b[0m \u001b[0mprint\u001b[0m\u001b[1;33m(\u001b[0m\u001b[0mnext\u001b[0m\u001b[1;33m(\u001b[0m\u001b[0mt\u001b[0m\u001b[1;33m)\u001b[0m\u001b[1;33m)\u001b[0m\u001b[1;33m\u001b[0m\u001b[1;33m\u001b[0m\u001b[0m\n\u001b[0;32m      5\u001b[0m \u001b[0mprint\u001b[0m\u001b[1;33m(\u001b[0m\u001b[0mnext\u001b[0m\u001b[1;33m(\u001b[0m\u001b[0mt\u001b[0m\u001b[1;33m)\u001b[0m\u001b[1;33m)\u001b[0m\u001b[1;33m\u001b[0m\u001b[1;33m\u001b[0m\u001b[0m\n\u001b[1;32m----> 6\u001b[1;33m \u001b[0mprint\u001b[0m\u001b[1;33m(\u001b[0m\u001b[0mnext\u001b[0m\u001b[1;33m(\u001b[0m\u001b[0mt\u001b[0m\u001b[1;33m)\u001b[0m\u001b[1;33m)\u001b[0m\u001b[1;33m\u001b[0m\u001b[1;33m\u001b[0m\u001b[0m\n\u001b[0m",
      "\u001b[1;31mStopIteration\u001b[0m: "
     ]
    }
   ],
   "source": [
    "t = (x for x in range(3))\n",
    "\n",
    "print(type(t))\n",
    "print(next(t))\n",
    "print(next(t))\n",
    "print(next(t))\n"
   ]
  },
  {
   "cell_type": "code",
   "execution_count": 20,
   "metadata": {},
   "outputs": [
    {
     "name": "stdout",
     "output_type": "stream",
     "text": [
      "0\n",
      "1\n",
      "2\n"
     ]
    }
   ],
   "source": [
    "length = 3\n",
    "iter_ = (x for x in range(length))\n",
    "c = 0\n",
    "while c<length:\n",
    "    print(next(iter_))\n",
    "    c +=1\n",
    "\n"
   ]
  },
  {
   "cell_type": "code",
   "execution_count": 22,
   "metadata": {},
   "outputs": [
    {
     "name": "stdout",
     "output_type": "stream",
     "text": [
      "{'name': 'Kteam', 'member': 69}\n"
     ]
    }
   ],
   "source": [
    "# name = 'SpaceX'\n",
    "# member = 696969\n",
    "dic = dict(name = 'Kteam', member = 69)\n",
    "print(dic)"
   ]
  },
  {
   "cell_type": "code",
   "execution_count": 27,
   "metadata": {},
   "outputs": [
    {
     "name": "stdout",
     "output_type": "stream",
     "text": [
      "x=6\n",
      "Sau khi xu ly L= [1, 2, 3, 4, 5, 6]\n"
     ]
    }
   ],
   "source": [
    "#Nhap x neu ton tai thi xoa, con lai thi them x vao L\n",
    "L = [1, 2, 3, 4, 5]\n",
    "x = int(input('x='))\n",
    "i = 0\n",
    "if x in L:\n",
    "    while i < len(L):\n",
    "        if L[i] == x:\n",
    "            del(L[i])\n",
    "        i +=1\n",
    "else:\n",
    "    L = L + [x]\n",
    "    \n",
    "print('Sau khi xu ly L=', L)"
   ]
  },
  {
   "cell_type": "code",
   "execution_count": 34,
   "metadata": {},
   "outputs": [
    {
     "name": "stdout",
     "output_type": "stream",
     "text": [
      "[1, 2, 3, 4, 5, 6]\n"
     ]
    }
   ],
   "source": [
    "    # bai 5.1\n",
    "\n",
    "    \n",
    "    def Input():\n",
    "        n = int(input('n='))\n",
    "        i = 0\n",
    "        while i<=n:\n",
    "            L = list(int(input()))\n",
    "            i +=1\n",
    "        return L\n",
    "    print(L)\n"
   ]
  },
  {
   "cell_type": "code",
   "execution_count": 38,
   "metadata": {},
   "outputs": [
    {
     "name": "stdout",
     "output_type": "stream",
     "text": [
      "7\n",
      "[7]\n"
     ]
    }
   ],
   "source": [
    "\n",
    "L = [int(input())]\n",
    "print(L)"
   ]
  },
  {
   "cell_type": "code",
   "execution_count": 139,
   "metadata": {},
   "outputs": [
    {
     "name": "stdout",
     "output_type": "stream",
     "text": [
      "n=5\n",
      "3\n",
      "6\n",
      "5\n",
      "7\n",
      "9\n",
      "x=8\n",
      "[3, 9]\n",
      "False\n"
     ]
    }
   ],
   "source": [
    "#5.1\n",
    "def Input():\n",
    "    \n",
    "    global L\n",
    "    global x\n",
    "    L = []\n",
    "    n = int(input('n='))\n",
    "    i = 0\n",
    "    while i<=n:\n",
    "        if i<n:\n",
    "            z = int(input())\n",
    "            L = L + [z]\n",
    "            i +=1\n",
    "        else:\n",
    "            x = int(input('x='))\n",
    "            break\n",
    "            \n",
    "    return L, x\n",
    "\n",
    "\n",
    "def FirstAndLast(L):\n",
    "    L=sorted(L,reverse=True)\n",
    "    L1= [L[-1], L[0]]\n",
    "    return L1\n",
    "\n",
    "def Search(L,x):\n",
    "    for i in range(len(L)):\n",
    "        if x == L[i]:\n",
    "          \n",
    "            return True\n",
    "    \n",
    "    return False\n",
    "    \n",
    "\n",
    "i = Input()\n",
    "F = FirstAndLast(L)\n",
    "s = Search(L, x)\n",
    "print(F)\n",
    "print(s)\n",
    "\n"
   ]
  },
  {
   "cell_type": "markdown",
   "metadata": {},
   "source": []
  },
  {
   "cell_type": "code",
   "execution_count": null,
   "metadata": {},
   "outputs": [],
   "source": []
  },
  {
   "cell_type": "markdown",
   "metadata": {},
   "source": []
  },
  {
   "cell_type": "code",
   "execution_count": 111,
   "metadata": {},
   "outputs": [
    {
     "name": "stdout",
     "output_type": "stream",
     "text": [
      "n=5\n",
      "10\n",
      "15\n",
      "3\n",
      "2\n",
      "7\n",
      "15 2\n"
     ]
    }
   ],
   "source": [
    "#5.2\n",
    "def Input():\n",
    "    L = []\n",
    "    n = int(input('n='))\n",
    "    i = 0\n",
    "    while i<n:\n",
    "            x = int(input())\n",
    "            L = L + [x]\n",
    "            i +=1\n",
    "    return L\n",
    "\n",
    "def Search(L):\n",
    "    global max\n",
    "    global min\n",
    "    sort=sorted(L,reverse=True)\n",
    "    max = sort[0]\n",
    "    min = sort[-1]\n",
    "    \n",
    "    #return max, min\n",
    "def Output(max, min):\n",
    "    print(max, min)\n",
    "    \n",
    "s = Input()\n",
    "se = Search(s)\n",
    "ikq = Output(max, min)\n"
   ]
  },
  {
   "cell_type": "code",
   "execution_count": 221,
   "metadata": {},
   "outputs": [
    {
     "name": "stdout",
     "output_type": "stream",
     "text": [
      "n=4\n",
      "4\n",
      "2\n",
      "5\n",
      "7\n",
      "SND=2\n"
     ]
    },
    {
     "ename": "TypeError",
     "evalue": "'int' object is not callable",
     "output_type": "error",
     "traceback": [
      "\u001b[1;31m---------------------------------------------------------------------------\u001b[0m",
      "\u001b[1;31mTypeError\u001b[0m                                 Traceback (most recent call last)",
      "\u001b[1;32m<ipython-input-221-5e31dc87be9d>\u001b[0m in \u001b[0;36m<module>\u001b[1;34m\u001b[0m\n\u001b[0;32m     30\u001b[0m \u001b[0mx\u001b[0m \u001b[1;33m=\u001b[0m \u001b[0mxulysd\u001b[0m\u001b[1;33m(\u001b[0m\u001b[0mi\u001b[0m\u001b[1;33m)\u001b[0m\u001b[1;33m\u001b[0m\u001b[1;33m\u001b[0m\u001b[0m\n\u001b[0;32m     31\u001b[0m \u001b[0mz\u001b[0m \u001b[1;33m=\u001b[0m \u001b[0mdem1\u001b[0m\u001b[1;33m(\u001b[0m\u001b[0mx\u001b[0m\u001b[1;33m)\u001b[0m\u001b[1;33m\u001b[0m\u001b[1;33m\u001b[0m\u001b[0m\n\u001b[1;32m---> 32\u001b[1;33m \u001b[0mkq\u001b[0m \u001b[1;33m=\u001b[0m \u001b[0mtbc\u001b[0m\u001b[1;33m(\u001b[0m\u001b[0mtbc\u001b[0m\u001b[1;33m,\u001b[0m \u001b[0mdem\u001b[0m\u001b[1;33m)\u001b[0m\u001b[1;33m\u001b[0m\u001b[1;33m\u001b[0m\u001b[0m\n\u001b[0m",
      "\u001b[1;31mTypeError\u001b[0m: 'int' object is not callable"
     ]
    }
   ],
   "source": [
    "#5.3\n",
    "def Input():\n",
    "    global L\n",
    "    L = []\n",
    "    n = int(input('n='))\n",
    "    i = 0\n",
    "    while i<n:\n",
    "            x = int(input())\n",
    "            L = L + [x]\n",
    "            i +=1\n",
    "\n",
    "    return L\n",
    "def xulysd(L):\n",
    "    global L2\n",
    "    global tbc\n",
    "    dem = 0\n",
    "    tbc = 0\n",
    "    L1 = []\n",
    "    for n in L:\n",
    "        if n%2==0:\n",
    "            tbc +=n\n",
    "            L2 = L1.append(n)\n",
    "            dem +=1\n",
    "    return dem\n",
    "def dem1(dem):\n",
    "    print('SND=', dem,sep='')\n",
    "\n",
    "i = Input()\n",
    "x = xulysd(i)\n",
    "z = dem1(x)"
   ]
  },
  {
   "cell_type": "markdown",
   "metadata": {},
   "source": []
  },
  {
   "cell_type": "code",
   "execution_count": 199,
   "metadata": {},
   "outputs": [
    {
     "ename": "KeyboardInterrupt",
     "evalue": "Interrupted by user",
     "output_type": "error",
     "traceback": [
      "\u001b[1;31m---------------------------------------------------------------------------\u001b[0m",
      "\u001b[1;31mKeyboardInterrupt\u001b[0m                         Traceback (most recent call last)",
      "\u001b[1;32m<ipython-input-199-0d9797917240>\u001b[0m in \u001b[0;36m<module>\u001b[1;34m\u001b[0m\n\u001b[0;32m     15\u001b[0m     \u001b[0mprint\u001b[0m\u001b[1;33m(\u001b[0m\u001b[0mB\u001b[0m\u001b[1;33m)\u001b[0m\u001b[1;33m\u001b[0m\u001b[1;33m\u001b[0m\u001b[0m\n\u001b[0;32m     16\u001b[0m \u001b[1;33m\u001b[0m\u001b[0m\n\u001b[1;32m---> 17\u001b[1;33m \u001b[0mi\u001b[0m \u001b[1;33m=\u001b[0m \u001b[0mInput\u001b[0m\u001b[1;33m(\u001b[0m\u001b[1;33m)\u001b[0m\u001b[1;33m\u001b[0m\u001b[1;33m\u001b[0m\u001b[0m\n\u001b[0m\u001b[0;32m     18\u001b[0m \u001b[0mInkq\u001b[0m \u001b[1;33m=\u001b[0m \u001b[0mSapXep\u001b[0m\u001b[1;33m(\u001b[0m\u001b[0mi\u001b[0m\u001b[1;33m)\u001b[0m\u001b[1;33m\u001b[0m\u001b[1;33m\u001b[0m\u001b[0m\n",
      "\u001b[1;32m<ipython-input-199-0d9797917240>\u001b[0m in \u001b[0;36mInput\u001b[1;34m()\u001b[0m\n\u001b[0;32m      2\u001b[0m \u001b[1;32mdef\u001b[0m \u001b[0mInput\u001b[0m\u001b[1;33m(\u001b[0m\u001b[1;33m)\u001b[0m\u001b[1;33m:\u001b[0m\u001b[1;33m\u001b[0m\u001b[1;33m\u001b[0m\u001b[0m\n\u001b[0;32m      3\u001b[0m     \u001b[0mA\u001b[0m \u001b[1;33m=\u001b[0m \u001b[1;33m[\u001b[0m\u001b[1;33m]\u001b[0m\u001b[1;33m\u001b[0m\u001b[1;33m\u001b[0m\u001b[0m\n\u001b[1;32m----> 4\u001b[1;33m     \u001b[0mn\u001b[0m \u001b[1;33m=\u001b[0m \u001b[0mint\u001b[0m\u001b[1;33m(\u001b[0m\u001b[0minput\u001b[0m\u001b[1;33m(\u001b[0m\u001b[1;34m'n='\u001b[0m\u001b[1;33m)\u001b[0m\u001b[1;33m)\u001b[0m\u001b[1;33m\u001b[0m\u001b[1;33m\u001b[0m\u001b[0m\n\u001b[0m\u001b[0;32m      5\u001b[0m     \u001b[0mi\u001b[0m \u001b[1;33m=\u001b[0m \u001b[1;36m0\u001b[0m\u001b[1;33m\u001b[0m\u001b[1;33m\u001b[0m\u001b[0m\n\u001b[0;32m      6\u001b[0m     \u001b[1;32mwhile\u001b[0m \u001b[0mi\u001b[0m\u001b[1;33m<\u001b[0m\u001b[0mn\u001b[0m\u001b[1;33m:\u001b[0m\u001b[1;33m\u001b[0m\u001b[1;33m\u001b[0m\u001b[0m\n",
      "\u001b[1;32m~\\anaconda3\\lib\\site-packages\\ipykernel\\kernelbase.py\u001b[0m in \u001b[0;36mraw_input\u001b[1;34m(self, prompt)\u001b[0m\n\u001b[0;32m    858\u001b[0m                 \u001b[1;34m\"raw_input was called, but this frontend does not support input requests.\"\u001b[0m\u001b[1;33m\u001b[0m\u001b[1;33m\u001b[0m\u001b[0m\n\u001b[0;32m    859\u001b[0m             )\n\u001b[1;32m--> 860\u001b[1;33m         return self._input_request(str(prompt),\n\u001b[0m\u001b[0;32m    861\u001b[0m             \u001b[0mself\u001b[0m\u001b[1;33m.\u001b[0m\u001b[0m_parent_ident\u001b[0m\u001b[1;33m,\u001b[0m\u001b[1;33m\u001b[0m\u001b[1;33m\u001b[0m\u001b[0m\n\u001b[0;32m    862\u001b[0m             \u001b[0mself\u001b[0m\u001b[1;33m.\u001b[0m\u001b[0m_parent_header\u001b[0m\u001b[1;33m,\u001b[0m\u001b[1;33m\u001b[0m\u001b[1;33m\u001b[0m\u001b[0m\n",
      "\u001b[1;32m~\\anaconda3\\lib\\site-packages\\ipykernel\\kernelbase.py\u001b[0m in \u001b[0;36m_input_request\u001b[1;34m(self, prompt, ident, parent, password)\u001b[0m\n\u001b[0;32m    902\u001b[0m             \u001b[1;32mexcept\u001b[0m \u001b[0mKeyboardInterrupt\u001b[0m\u001b[1;33m:\u001b[0m\u001b[1;33m\u001b[0m\u001b[1;33m\u001b[0m\u001b[0m\n\u001b[0;32m    903\u001b[0m                 \u001b[1;31m# re-raise KeyboardInterrupt, to truncate traceback\u001b[0m\u001b[1;33m\u001b[0m\u001b[1;33m\u001b[0m\u001b[1;33m\u001b[0m\u001b[0m\n\u001b[1;32m--> 904\u001b[1;33m                 \u001b[1;32mraise\u001b[0m \u001b[0mKeyboardInterrupt\u001b[0m\u001b[1;33m(\u001b[0m\u001b[1;34m\"Interrupted by user\"\u001b[0m\u001b[1;33m)\u001b[0m \u001b[1;32mfrom\u001b[0m \u001b[1;32mNone\u001b[0m\u001b[1;33m\u001b[0m\u001b[1;33m\u001b[0m\u001b[0m\n\u001b[0m\u001b[0;32m    905\u001b[0m             \u001b[1;32mexcept\u001b[0m \u001b[0mException\u001b[0m \u001b[1;32mas\u001b[0m \u001b[0me\u001b[0m\u001b[1;33m:\u001b[0m\u001b[1;33m\u001b[0m\u001b[1;33m\u001b[0m\u001b[0m\n\u001b[0;32m    906\u001b[0m                 \u001b[0mself\u001b[0m\u001b[1;33m.\u001b[0m\u001b[0mlog\u001b[0m\u001b[1;33m.\u001b[0m\u001b[0mwarning\u001b[0m\u001b[1;33m(\u001b[0m\u001b[1;34m\"Invalid Message:\"\u001b[0m\u001b[1;33m,\u001b[0m \u001b[0mexc_info\u001b[0m\u001b[1;33m=\u001b[0m\u001b[1;32mTrue\u001b[0m\u001b[1;33m)\u001b[0m\u001b[1;33m\u001b[0m\u001b[1;33m\u001b[0m\u001b[0m\n",
      "\u001b[1;31mKeyboardInterrupt\u001b[0m: Interrupted by user"
     ]
    }
   ],
   "source": [
    "#5.4\n",
    "def Input():\n",
    "    A = []\n",
    "    n = int(input('n='))\n",
    "    i = 0\n",
    "    while i<n:\n",
    "            x = int(input())\n",
    "            A = A + [x]\n",
    "            i +=1\n",
    "    return A\n",
    "def SapXep(A):\n",
    "    A.reverse()\n",
    "    print(A)\n",
    "    B = sorted(A)\n",
    "    print(B)\n",
    "    \n",
    "i = Input()\n",
    "Inkq = SapXep(i)"
   ]
  },
  {
   "cell_type": "code",
   "execution_count": 184,
   "metadata": {},
   "outputs": [
    {
     "name": "stdout",
     "output_type": "stream",
     "text": [
      "n=5\n",
      "4\n",
      "5\n",
      "2\n",
      "5\n",
      "1\n"
     ]
    },
    {
     "ename": "TypeError",
     "evalue": "int() argument must be a string, a bytes-like object or a number, not 'list'",
     "output_type": "error",
     "traceback": [
      "\u001b[1;31m---------------------------------------------------------------------------\u001b[0m",
      "\u001b[1;31mTypeError\u001b[0m                                 Traceback (most recent call last)",
      "\u001b[1;32m<ipython-input-184-2efa6ea0cfa8>\u001b[0m in \u001b[0;36m<module>\u001b[1;34m\u001b[0m\n\u001b[0;32m     18\u001b[0m \u001b[1;33m\u001b[0m\u001b[0m\n\u001b[0;32m     19\u001b[0m \u001b[0mi\u001b[0m \u001b[1;33m=\u001b[0m \u001b[0mInput\u001b[0m\u001b[1;33m(\u001b[0m\u001b[1;33m)\u001b[0m\u001b[1;33m\u001b[0m\u001b[1;33m\u001b[0m\u001b[0m\n\u001b[1;32m---> 20\u001b[1;33m \u001b[0mInkq\u001b[0m \u001b[1;33m=\u001b[0m \u001b[0mSapXep\u001b[0m\u001b[1;33m(\u001b[0m\u001b[0mi\u001b[0m\u001b[1;33m)\u001b[0m\u001b[1;33m\u001b[0m\u001b[1;33m\u001b[0m\u001b[0m\n\u001b[0m",
      "\u001b[1;32m<ipython-input-184-2efa6ea0cfa8>\u001b[0m in \u001b[0;36mSapXep\u001b[1;34m(L)\u001b[0m\n\u001b[0;32m     15\u001b[0m         \u001b[1;32mif\u001b[0m \u001b[0mi\u001b[0m \u001b[1;32mnot\u001b[0m \u001b[1;32min\u001b[0m \u001b[0ms\u001b[0m\u001b[1;33m:\u001b[0m\u001b[1;33m\u001b[0m\u001b[1;33m\u001b[0m\u001b[0m\n\u001b[0;32m     16\u001b[0m             \u001b[0ms\u001b[0m\u001b[1;33m.\u001b[0m\u001b[0mappend\u001b[0m\u001b[1;33m(\u001b[0m\u001b[0mi\u001b[0m\u001b[1;33m)\u001b[0m\u001b[1;33m\u001b[0m\u001b[1;33m\u001b[0m\u001b[0m\n\u001b[1;32m---> 17\u001b[1;33m     \u001b[0mprint\u001b[0m\u001b[1;33m(\u001b[0m\u001b[0mint\u001b[0m\u001b[1;33m(\u001b[0m\u001b[0ms\u001b[0m\u001b[1;33m)\u001b[0m\u001b[1;33m)\u001b[0m\u001b[1;33m\u001b[0m\u001b[1;33m\u001b[0m\u001b[0m\n\u001b[0m\u001b[0;32m     18\u001b[0m \u001b[1;33m\u001b[0m\u001b[0m\n\u001b[0;32m     19\u001b[0m \u001b[0mi\u001b[0m \u001b[1;33m=\u001b[0m \u001b[0mInput\u001b[0m\u001b[1;33m(\u001b[0m\u001b[1;33m)\u001b[0m\u001b[1;33m\u001b[0m\u001b[1;33m\u001b[0m\u001b[0m\n",
      "\u001b[1;31mTypeError\u001b[0m: int() argument must be a string, a bytes-like object or a number, not 'list'"
     ]
    }
   ],
   "source": [
    "#5.7\n",
    "def Input():\n",
    "    L = []\n",
    "    n = int(input('n='))\n",
    "    i = 0\n",
    "    while i<n:\n",
    "            x = int(input())\n",
    "            L = L + [x]\n",
    "            i +=1\n",
    "    return L\n",
    "def SapXep(L):\n",
    "    #rint(L)\n",
    "    s = []\n",
    "    for i in L:\n",
    "        if i not in s:\n",
    "            s.append(i)\n",
    "    print(string())\n",
    "    \n",
    "i = Input()\n",
    "Inkq = SapXep(i)"
   ]
  },
  {
   "cell_type": "code",
   "execution_count": 230,
   "metadata": {},
   "outputs": [
    {
     "name": "stdout",
     "output_type": "stream",
     "text": [
      "None\n",
      "None\n",
      "None\n",
      "None\n",
      "None\n",
      "None\n",
      "None\n"
     ]
    }
   ],
   "source": [
    "L= [1, 2, 3, 4, 5, 6, 7]\n",
    "dem = 0\n",
    "L1 = []\n",
    "for n in L:\n",
    "    if n%2==0:\n",
    "        tbc +=n\n",
    "        L2 = L1.append(n)\n",
    "        dem +=1\n",
    "    print(L2)"
   ]
  },
  {
   "cell_type": "code",
   "execution_count": null,
   "metadata": {},
   "outputs": [],
   "source": []
  },
  {
   "cell_type": "code",
   "execution_count": null,
   "metadata": {},
   "outputs": [],
   "source": []
  }
 ],
 "metadata": {
  "kernelspec": {
   "display_name": "Python 3",
   "language": "python",
   "name": "python3"
  },
  "language_info": {
   "codemirror_mode": {
    "name": "ipython",
    "version": 3
   },
   "file_extension": ".py",
   "mimetype": "text/x-python",
   "name": "python",
   "nbconvert_exporter": "python",
   "pygments_lexer": "ipython3",
   "version": "3.8.5"
  }
 },
 "nbformat": 4,
 "nbformat_minor": 4
}
