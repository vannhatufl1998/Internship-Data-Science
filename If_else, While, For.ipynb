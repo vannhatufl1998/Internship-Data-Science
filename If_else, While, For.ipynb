{
 "cells": [
  {
   "cell_type": "code",
   "execution_count": 1,
   "metadata": {},
   "outputs": [
    {
     "name": "stdout",
     "output_type": "stream",
     "text": [
      "a=5\n",
      "b=8\n",
      "c=7\n",
      "Dien tich=17.321\n"
     ]
    }
   ],
   "source": [
    "import math\n",
    "a= float(input('a='))\n",
    "b= float(input('b='))\n",
    "c= float(input('c='))\n",
    "\n",
    "if a+b>c and a+c>b and b+c>a:\n",
    "   #Neu dieu kien dung thi xuat thong bao\n",
    "    p= (a+b+c)/2\n",
    "    DientichTG = round(math.sqrt(p*(p-a)*(p-b)*(p-c)),3)\n",
    "    print('Dien tich=',DientichTG, sep='')\n",
    "else:\n",
    "   #Neu dieu kien sai thi xuat thong bao\n",
    "   print('Khong hop le')"
   ]
  },
  {
   "cell_type": "code",
   "execution_count": 2,
   "metadata": {},
   "outputs": [
    {
     "ename": "KeyboardInterrupt",
     "evalue": "Interrupted by user",
     "output_type": "error",
     "traceback": [
      "\u001b[1;31m---------------------------------------------------------------------------\u001b[0m",
      "\u001b[1;31mKeyboardInterrupt\u001b[0m                         Traceback (most recent call last)",
      "\u001b[1;32m<ipython-input-2-1da01571a599>\u001b[0m in \u001b[0;36m<module>\u001b[1;34m\u001b[0m\n\u001b[1;32m----> 1\u001b[1;33m \u001b[0mm1\u001b[0m\u001b[1;33m=\u001b[0m\u001b[0mint\u001b[0m\u001b[1;33m(\u001b[0m\u001b[0minput\u001b[0m\u001b[1;33m(\u001b[0m\u001b[1;34m'M1='\u001b[0m\u001b[1;33m)\u001b[0m\u001b[1;33m)\u001b[0m\u001b[1;33m\u001b[0m\u001b[1;33m\u001b[0m\u001b[0m\n\u001b[0m\u001b[0;32m      2\u001b[0m \u001b[0mm2\u001b[0m\u001b[1;33m=\u001b[0m\u001b[0mint\u001b[0m\u001b[1;33m(\u001b[0m\u001b[0minput\u001b[0m\u001b[1;33m(\u001b[0m\u001b[1;34m'M2='\u001b[0m\u001b[1;33m)\u001b[0m\u001b[1;33m)\u001b[0m\u001b[1;33m\u001b[0m\u001b[1;33m\u001b[0m\u001b[0m\n\u001b[0;32m      3\u001b[0m \u001b[0mm3\u001b[0m\u001b[1;33m=\u001b[0m\u001b[0mint\u001b[0m\u001b[1;33m(\u001b[0m\u001b[0minput\u001b[0m\u001b[1;33m(\u001b[0m\u001b[1;34m'M3='\u001b[0m\u001b[1;33m)\u001b[0m\u001b[1;33m)\u001b[0m\u001b[1;33m\u001b[0m\u001b[1;33m\u001b[0m\u001b[0m\n\u001b[0;32m      4\u001b[0m \u001b[0ms\u001b[0m\u001b[1;33m=\u001b[0m\u001b[0mint\u001b[0m\u001b[1;33m(\u001b[0m\u001b[0minput\u001b[0m\u001b[1;33m(\u001b[0m\u001b[1;34m'S='\u001b[0m\u001b[1;33m)\u001b[0m\u001b[1;33m)\u001b[0m\u001b[1;33m\u001b[0m\u001b[1;33m\u001b[0m\u001b[0m\n\u001b[0;32m      5\u001b[0m \u001b[1;32mif\u001b[0m \u001b[0ms\u001b[0m\u001b[1;33m>\u001b[0m\u001b[1;36m0\u001b[0m \u001b[1;32mand\u001b[0m \u001b[0ms\u001b[0m\u001b[1;33m<=\u001b[0m\u001b[1;36m100\u001b[0m\u001b[1;33m:\u001b[0m\u001b[1;33m\u001b[0m\u001b[1;33m\u001b[0m\u001b[0m\n",
      "\u001b[1;32m~\\anaconda3\\lib\\site-packages\\ipykernel\\kernelbase.py\u001b[0m in \u001b[0;36mraw_input\u001b[1;34m(self, prompt)\u001b[0m\n\u001b[0;32m    858\u001b[0m                 \u001b[1;34m\"raw_input was called, but this frontend does not support input requests.\"\u001b[0m\u001b[1;33m\u001b[0m\u001b[1;33m\u001b[0m\u001b[0m\n\u001b[0;32m    859\u001b[0m             )\n\u001b[1;32m--> 860\u001b[1;33m         return self._input_request(str(prompt),\n\u001b[0m\u001b[0;32m    861\u001b[0m             \u001b[0mself\u001b[0m\u001b[1;33m.\u001b[0m\u001b[0m_parent_ident\u001b[0m\u001b[1;33m,\u001b[0m\u001b[1;33m\u001b[0m\u001b[1;33m\u001b[0m\u001b[0m\n\u001b[0;32m    862\u001b[0m             \u001b[0mself\u001b[0m\u001b[1;33m.\u001b[0m\u001b[0m_parent_header\u001b[0m\u001b[1;33m,\u001b[0m\u001b[1;33m\u001b[0m\u001b[1;33m\u001b[0m\u001b[0m\n",
      "\u001b[1;32m~\\anaconda3\\lib\\site-packages\\ipykernel\\kernelbase.py\u001b[0m in \u001b[0;36m_input_request\u001b[1;34m(self, prompt, ident, parent, password)\u001b[0m\n\u001b[0;32m    902\u001b[0m             \u001b[1;32mexcept\u001b[0m \u001b[0mKeyboardInterrupt\u001b[0m\u001b[1;33m:\u001b[0m\u001b[1;33m\u001b[0m\u001b[1;33m\u001b[0m\u001b[0m\n\u001b[0;32m    903\u001b[0m                 \u001b[1;31m# re-raise KeyboardInterrupt, to truncate traceback\u001b[0m\u001b[1;33m\u001b[0m\u001b[1;33m\u001b[0m\u001b[1;33m\u001b[0m\u001b[0m\n\u001b[1;32m--> 904\u001b[1;33m                 \u001b[1;32mraise\u001b[0m \u001b[0mKeyboardInterrupt\u001b[0m\u001b[1;33m(\u001b[0m\u001b[1;34m\"Interrupted by user\"\u001b[0m\u001b[1;33m)\u001b[0m \u001b[1;32mfrom\u001b[0m \u001b[1;32mNone\u001b[0m\u001b[1;33m\u001b[0m\u001b[1;33m\u001b[0m\u001b[0m\n\u001b[0m\u001b[0;32m    905\u001b[0m             \u001b[1;32mexcept\u001b[0m \u001b[0mException\u001b[0m \u001b[1;32mas\u001b[0m \u001b[0me\u001b[0m\u001b[1;33m:\u001b[0m\u001b[1;33m\u001b[0m\u001b[1;33m\u001b[0m\u001b[0m\n\u001b[0;32m    906\u001b[0m                 \u001b[0mself\u001b[0m\u001b[1;33m.\u001b[0m\u001b[0mlog\u001b[0m\u001b[1;33m.\u001b[0m\u001b[0mwarning\u001b[0m\u001b[1;33m(\u001b[0m\u001b[1;34m\"Invalid Message:\"\u001b[0m\u001b[1;33m,\u001b[0m \u001b[0mexc_info\u001b[0m\u001b[1;33m=\u001b[0m\u001b[1;32mTrue\u001b[0m\u001b[1;33m)\u001b[0m\u001b[1;33m\u001b[0m\u001b[1;33m\u001b[0m\u001b[0m\n",
      "\u001b[1;31mKeyboardInterrupt\u001b[0m: Interrupted by user"
     ]
    }
   ],
   "source": [
    "m1=int(input('M1='))\n",
    "m2=int(input('M2='))\n",
    "m3=int(input('M3='))\n",
    "s=int(input('S='))\n",
    "if s>0 and s<=100:\n",
    "\n",
    "        phaiTra= s*m1\n",
    "        print('Phai tra=', phaiTra,sep='')\n",
    "elif s>100 and s<=150:\n",
    "     phaiTra= 100*m1 + (s-100)*m2\n",
    "     print('Phai tra=', phaiTra,sep='')\n",
    "else:\n",
    "     phaiTra= 100*m1 + 50*m2 + (s-150)*m3\n",
    "     print('Phai tra=', phaiTra, sep='')\n"
   ]
  },
  {
   "cell_type": "code",
   "execution_count": null,
   "metadata": {},
   "outputs": [],
   "source": [
    "x= float(input('X='))\n",
    "y= float(input('y='))\n",
    "ch=input('Phep toan:')\n",
    "\n",
    "if ch=='+' or ch=='-' or ch=='*' or ch=='/':\n",
    "    if ch=='/' and y==0 :\n",
    "        print('Khong hop le')\n",
    "    else:\n",
    "       if ch=='+':\n",
    "           a = round((x + y), 2)\n",
    "           print(x, ch, y, '=', a, sep='')\n",
    "       elif ch=='-':\n",
    "           a= round((x-y),2)\n",
    "           print(x, ch, y, '=', a, sep='')\n",
    "       elif ch=='*':\n",
    "           a = round((x * y), 2)\n",
    "           print(x, ch, y, '=', a, sep='')\n",
    "       else:\n",
    "           a= round((x/y),2)\n",
    "           print(x, ch, y, '=', a, sep='')\n",
    "else:\n",
    "    print('Khong hop le')"
   ]
  },
  {
   "cell_type": "code",
   "execution_count": null,
   "metadata": {},
   "outputs": [],
   "source": [
    "toan = float(input())\n",
    "ly = float(input())\n",
    "hoa = float(input())\n",
    "dTb= (toan*2 + ly*3 + hoa)/6\n",
    "if dTb<3:\n",
    "    print('Kem')\n",
    "elif dTb>=3 and dTb<5:\n",
    "    print('Yeu')\n",
    "elif dTb>=5 and dTb<6:\n",
    "    print('Trung binh')\n",
    "elif dTb>=6 and dTb<7:\n",
    "    print('Trung binh Kha')\n",
    "elif dTb>=7 and dTb<8:\n",
    "    print('Kha')\n",
    "elif dTb>=8 and dTb<9:\n",
    "    print('Gioi')\n",
    "elif dTb>=9 and dTb<10:\n",
    "    print('Xuat sac')\n",
    "else:\n",
    "    print('Khong hop le')\n"
   ]
  },
  {
   "cell_type": "code",
   "execution_count": null,
   "metadata": {},
   "outputs": [],
   "source": [
    "soNgaynghi= int(input())\n",
    "if soNgaynghi==0:\n",
    "    print('Xep loai A')\n",
    "elif soNgaynghi<2 and soNgaynghi>0:\n",
    "    print('Xep loai B')\n",
    "elif soNgaynghi<4 and soNgaynghi >0:\n",
    "    print('Xep loai C ')\n",
    "else:\n",
    "    if soNgaynghi>0:\n",
    "        print('Xep loai D')\n",
    "    else:\n",
    "        print('Khong hop le')"
   ]
  },
  {
   "cell_type": "code",
   "execution_count": null,
   "metadata": {},
   "outputs": [],
   "source": [
    "a= float(input())\n",
    "b= float(input())\n",
    "c= float(input())\n",
    "if (a+b)>c and (a+c)>b and (b+c)>a and a>0 and b>0 and c>0:\n",
    "    if (a==b) and (b==c) and (c==a):\n",
    "        print('Tam giac deu')\n",
    "    elif (a*a==b*b+c*c) or (b*b==a*a+c*c) or (c*c==a*a+b*b):\n",
    "        print('Tam giac vuong')\n",
    "    else:\n",
    "        print('Tam giac loai khac')\n",
    "else:\n",
    "   print('Khong hop le')\n"
   ]
  },
  {
   "cell_type": "code",
   "execution_count": null,
   "metadata": {},
   "outputs": [],
   "source": [
    "year=int(input('Nhap vao nam lam viec: '))\n",
    "salary= float(input('Nhap vao luong: '))\n",
    "bonus=0\n",
    "if year<5:\n",
    "    if salary<500:\n",
    "        bonus = 100\n",
    "    else:\n",
    "        bonus = 200\n",
    "else:\n",
    "    bonus = 700\n",
    "print(\"Bonus=\", bonus)\n"
   ]
  },
  {
   "cell_type": "code",
   "execution_count": null,
   "metadata": {},
   "outputs": [],
   "source": [
    "n= int(input('Nhap n:'))\n",
    "i=2\n",
    "S=0\n",
    "while i<=n:\n",
    "    S=S+i\n",
    "    i=i+2\n",
    "print('Tong S=',S)\n",
    "\n"
   ]
  },
  {
   "cell_type": "code",
   "execution_count": null,
   "metadata": {},
   "outputs": [],
   "source": [
    "\n",
    "n = int(input('n='))\n",
    "while n<1 or n>50:\n",
    "    print('Nhap lai n')\n",
    "    n = int(input('n='))"
   ]
  },
  {
   "cell_type": "code",
   "execution_count": null,
   "metadata": {},
   "outputs": [],
   "source": [
    "n = int(input('n='))\n",
    "i=1\n",
    "while i<=n:\n",
    "    print(i,'',end='')\n",
    "    if i%10==0:\n",
    "        print('')\n",
    "    i = i+1\n"
   ]
  },
  {
   "cell_type": "code",
   "execution_count": null,
   "metadata": {},
   "outputs": [],
   "source": [
    "x= float(input('X='))\n",
    "y= float(input('y='))\n",
    "ch=input(\"Phep toan:\")\n",
    "\n",
    "if ch=='+' or ch=='-' or ch=='*' or ch=='/':\n",
    "    if ch=='/' and y==0 :\n",
    "        print('Khong hop le')\n",
    "    else:\n",
    "       if ch=='+':\n",
    "           print(x,'+',y,'=',x+y,sep='')\n",
    "       elif ch=='-':\n",
    "           print(x, '-', y, '=', x - y, sep='')\n",
    "       elif ch=='*':\n",
    "           print(x, '*', y, '=', x * y, sep='')\n",
    "       else:\n",
    "           print(x, '/', y, '=', x / y, sep='')\n",
    "else:\n",
    "    print('Khong hop le')"
   ]
  },
  {
   "cell_type": "code",
   "execution_count": null,
   "metadata": {},
   "outputs": [],
   "source": [
    "x=float(input(\"x=\"))\n",
    "y=float(input(\"y=\"))\n",
    "ch=(input('Phep toan:'))\n",
    "if ch==(\"+\"):\n",
    "    a = round((x + y), 2)\n",
    "    print(x, ch, y, '=', a, sep='')\n",
    "elif ch==(\"-\"):\n",
    "    a = round((x - y), 2)\n",
    "    print(x, ch, y, '=', a, sep='')\n",
    "elif ch==(\"*\"):\n",
    "    a = round((x * y), 2)\n",
    "    print(x, ch, y, '=', a, sep='')\n",
    "elif ch==(\"/\") and y==0:\n",
    "    print(\"Khong hop le\")\n",
    "elif ch==(\"/\"):\n",
    "    a = round((x / y), 2)\n",
    "    print(x, ch, y, '=', a, sep='')\n",
    "else:\n",
    "    print(\"Khong hop le\")"
   ]
  },
  {
   "cell_type": "code",
   "execution_count": null,
   "metadata": {},
   "outputs": [],
   "source": [
    "\n",
    "while True:\n",
    "    n=int(input(\"n=\"))\n",
    "    if n<0:\n",
    "        break\n",
    "\n",
    "    i=1\n",
    "    gt=1\n",
    "    while i<=n:\n",
    "        gt=gt*i\n",
    "        i=i+1\n",
    "\n",
    "    print(\"n!=\",gt,sep=\"\")\n",
    "\n"
   ]
  },
  {
   "cell_type": "code",
   "execution_count": null,
   "metadata": {},
   "outputs": [],
   "source": [
    "while True:\n",
    "    n=int(input(\"n=\"))\n",
    "    if n<0:\n",
    "        break\n",
    "\n",
    "    gt=1\n",
    "    for i in range(1,n+1):\n",
    "         gt=gt*i\n",
    "    print(\"n!=\",gt,sep=\"\")\n"
   ]
  },
  {
   "cell_type": "code",
   "execution_count": null,
   "metadata": {},
   "outputs": [],
   "source": [
    "t= input(\"\")\n",
    "n=int(input(\"\"))\n",
    "for i in range(1, n+1):\n",
    "    for j in range(1, i+1):\n",
    "        print(t, end=\" \")\n",
    "    print(\"\")"
   ]
  },
  {
   "cell_type": "code",
   "execution_count": null,
   "metadata": {},
   "outputs": [],
   "source": [
    "n = int(input(''))\n",
    "i=2\n",
    "while i<=n and n<=50:\n",
    "        print(i, end=' ')\n",
    "        i=i+2\n"
   ]
  },
  {
   "cell_type": "code",
   "execution_count": null,
   "metadata": {},
   "outputs": [],
   "source": [
    "n=int(input(\"n=\"))\n",
    "i=1\n",
    "while i<=n:\n",
    "    print(i,end=\" \")\n",
    "    if i%5==0 or i%10==0:\n",
    "        print()\n",
    "    i=i+1"
   ]
  },
  {
   "cell_type": "code",
   "execution_count": null,
   "metadata": {},
   "outputs": [],
   "source": [
    "# n=int(input(\"n=\"))\n",
    "# for i in range(1, n+1):\n",
    "#     for j in range(1, n+1):\n",
    "#         print(j,end=' ')\n",
    "#     print()\n",
    "n = int(input('n='))\n",
    "i=1\n",
    "while i<=n:\n",
    "    #print(i,end=' ')\n",
    "    i=i+1\n",
    "    j=1\n",
    "    while j<=n:\n",
    "        print(j, end=' ')\n",
    "        j=j+1\n",
    "    print()"
   ]
  },
  {
   "cell_type": "code",
   "execution_count": null,
   "metadata": {},
   "outputs": [],
   "source": [
    "soDuong = int()\n",
    "soAm = int()\n",
    "while True:\n",
    "    n = int(input())\n",
    "    if n == 0:\n",
    "        break\n",
    "    if n > 0:\n",
    "        soDuong += 1\n",
    "    else:\n",
    "        soAm += 1\n",
    "print(soDuong, 'so duong')\n",
    "print(soAm, 'so am')\n"
   ]
  }
 ],
 "metadata": {
  "kernelspec": {
   "display_name": "Python 3",
   "language": "python",
   "name": "python3"
  },
  "language_info": {
   "codemirror_mode": {
    "name": "ipython",
    "version": 3
   },
   "file_extension": ".py",
   "mimetype": "text/x-python",
   "name": "python",
   "nbconvert_exporter": "python",
   "pygments_lexer": "ipython3",
   "version": "3.8.5"
  }
 },
 "nbformat": 4,
 "nbformat_minor": 4
}
